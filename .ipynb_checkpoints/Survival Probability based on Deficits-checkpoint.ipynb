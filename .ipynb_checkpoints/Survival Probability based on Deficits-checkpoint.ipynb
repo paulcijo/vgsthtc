{
 "cells": [
  {
   "cell_type": "code",
   "execution_count": 1,
   "metadata": {
    "collapsed": true
   },
   "outputs": [],
   "source": [
    "import pandas as pd\n",
    "import timeit\n",
    "import pickle"
   ]
  },
  {
   "cell_type": "code",
   "execution_count": 2,
   "metadata": {
    "scrolled": false
   },
   "outputs": [
    {
     "name": "stderr",
     "output_type": "stream",
     "text": [
      "/home/cijo/anaconda2/lib/python2.7/site-packages/IPython/core/interactiveshell.py:2718: DtypeWarning: Columns (31) have mixed types. Specify dtype option on import or set low_memory=False.\n",
      "  interactivity=interactivity, compiler=compiler, result=result)\n"
     ]
    }
   ],
   "source": [
    "# reading dataste\n",
    "data = pd.read_csv('data.CSV')"
   ]
  },
  {
   "cell_type": "markdown",
   "metadata": {},
   "source": [
    "# What are the chances of Survival within 14 days if the any  deficits have occured? \n",
    "\n",
    "Checking conditional probability"
   ]
  },
  {
   "cell_type": "code",
   "execution_count": 3,
   "metadata": {
    "scrolled": false
   },
   "outputs": [
    {
     "data": {
      "text/html": [
       "<div>\n",
       "<style>\n",
       "    .dataframe thead tr:only-child th {\n",
       "        text-align: right;\n",
       "    }\n",
       "\n",
       "    .dataframe thead th {\n",
       "        text-align: left;\n",
       "    }\n",
       "\n",
       "    .dataframe tbody tr th {\n",
       "        vertical-align: top;\n",
       "    }\n",
       "</style>\n",
       "<table border=\"1\" class=\"dataframe\">\n",
       "  <thead>\n",
       "    <tr style=\"text-align: right;\">\n",
       "      <th></th>\n",
       "      <th>RDEF1</th>\n",
       "      <th>RDEF2</th>\n",
       "      <th>RDEF3</th>\n",
       "      <th>RDEF4</th>\n",
       "      <th>RDEF5</th>\n",
       "      <th>RDEF6</th>\n",
       "      <th>RDEF7</th>\n",
       "      <th>RDEF8</th>\n",
       "      <th>DALIVE</th>\n",
       "    </tr>\n",
       "  </thead>\n",
       "  <tbody>\n",
       "    <tr>\n",
       "      <th>0</th>\n",
       "      <td>N</td>\n",
       "      <td>N</td>\n",
       "      <td>N</td>\n",
       "      <td>Y</td>\n",
       "      <td>N</td>\n",
       "      <td>Y</td>\n",
       "      <td>N</td>\n",
       "      <td>Y</td>\n",
       "      <td>N</td>\n",
       "    </tr>\n",
       "    <tr>\n",
       "      <th>1</th>\n",
       "      <td>Y</td>\n",
       "      <td>Y</td>\n",
       "      <td>Y</td>\n",
       "      <td>N</td>\n",
       "      <td>N</td>\n",
       "      <td>N</td>\n",
       "      <td>N</td>\n",
       "      <td>N</td>\n",
       "      <td>N</td>\n",
       "    </tr>\n",
       "    <tr>\n",
       "      <th>2</th>\n",
       "      <td>Y</td>\n",
       "      <td>Y</td>\n",
       "      <td>Y</td>\n",
       "      <td>N</td>\n",
       "      <td>N</td>\n",
       "      <td>N</td>\n",
       "      <td>N</td>\n",
       "      <td>N</td>\n",
       "      <td>Y</td>\n",
       "    </tr>\n",
       "    <tr>\n",
       "      <th>3</th>\n",
       "      <td>N</td>\n",
       "      <td>N</td>\n",
       "      <td>N</td>\n",
       "      <td>Y</td>\n",
       "      <td>N</td>\n",
       "      <td>N</td>\n",
       "      <td>N</td>\n",
       "      <td>N</td>\n",
       "      <td>Y</td>\n",
       "    </tr>\n",
       "    <tr>\n",
       "      <th>4</th>\n",
       "      <td>Y</td>\n",
       "      <td>Y</td>\n",
       "      <td>Y</td>\n",
       "      <td>N</td>\n",
       "      <td>N</td>\n",
       "      <td>N</td>\n",
       "      <td>N</td>\n",
       "      <td>N</td>\n",
       "      <td>N</td>\n",
       "    </tr>\n",
       "  </tbody>\n",
       "</table>\n",
       "</div>"
      ],
      "text/plain": [
       "  RDEF1 RDEF2 RDEF3 RDEF4 RDEF5 RDEF6 RDEF7 RDEF8 DALIVE\n",
       "0     N     N     N     Y     N     Y     N     Y      N\n",
       "1     Y     Y     Y     N     N     N     N     N      N\n",
       "2     Y     Y     Y     N     N     N     N     N      Y\n",
       "3     N     N     N     Y     N     N     N     N      Y\n",
       "4     Y     Y     Y     N     N     N     N     N      N"
      ]
     },
     "execution_count": 3,
     "metadata": {},
     "output_type": "execute_result"
    }
   ],
   "source": [
    "# preprocessing the dataset\n",
    "# selecting required fields\n",
    "required_fields = ['RDEF1', 'RDEF2', 'RDEF3', 'RDEF4', 'RDEF5', 'RDEF6', 'RDEF7', 'RDEF8', 'DALIVE', 'FDEAD']\n",
    "data = data[required_fields]\n",
    "data.dropna() # dropping fields with NA values or Empty Values\n",
    "data = data[data['DALIVE'] != 'U']\n",
    "data.head()"
   ]
  },
  {
   "cell_type": "code",
   "execution_count": 16,
   "metadata": {
    "scrolled": true
   },
   "outputs": [
    {
     "name": "stdout",
     "output_type": "stream",
     "text": [
      "CONDIFTIONAL PROBABILITY OF DALIVE if RDEF1 Occured\n",
      "DALIVE  RDEF1\n",
      "N       Y        0.780458\n",
      "        N        0.200705\n",
      "        C        0.018837\n",
      "Y       Y        0.677097\n",
      "        N        0.315637\n",
      "        C        0.007266\n",
      "Name: RDEF1, dtype: float64\n",
      "CONDIFTIONAL PROBABILITY OF DALIVE if RDEF2 Occured\n",
      "DALIVE  RDEF2\n",
      "N       Y        0.905706\n",
      "        N        0.086142\n",
      "        C        0.008152\n",
      "Y       Y        0.812924\n",
      "        N        0.182329\n",
      "        C        0.004747\n",
      "Name: RDEF2, dtype: float64\n",
      "CONDIFTIONAL PROBABILITY OF DALIVE if RDEF3 Occured\n",
      "DALIVE  RDEF3\n",
      "N       Y        0.830690\n",
      "        N        0.153007\n",
      "        C        0.016303\n",
      "Y       Y        0.688529\n",
      "        N        0.301104\n",
      "        C        0.010366\n",
      "Name: RDEF3, dtype: float64\n",
      "CONDIFTIONAL PROBABILITY OF DALIVE if RDEF4 Occured\n",
      "DALIVE  RDEF4\n",
      "N       Y        0.490196\n",
      "        N        0.461115\n",
      "        C        0.048689\n",
      "Y       N        0.594943\n",
      "        Y        0.391494\n",
      "        C        0.013563\n",
      "Name: RDEF4, dtype: float64\n",
      "CONDIFTIONAL PROBABILITY OF DALIVE if RDEF5 Occured\n",
      "DALIVE  RDEF5\n",
      "N       N        0.512778\n",
      "        C        0.284424\n",
      "        Y        0.202798\n",
      "Y       N        0.748111\n",
      "        C        0.130789\n",
      "        Y        0.121101\n",
      "Name: RDEF5, dtype: float64\n",
      "CONDIFTIONAL PROBABILITY OF DALIVE if RDEF6 Occured\n",
      "DALIVE  RDEF6\n",
      "N       N        0.536131\n",
      "        C        0.247852\n",
      "        Y        0.216017\n",
      "Y       N        0.767487\n",
      "        Y        0.117322\n",
      "        C        0.115191\n",
      "Name: RDEF6, dtype: float64\n",
      "CONDIFTIONAL PROBABILITY OF DALIVE if RDEF7 Occured\n",
      "DALIVE  RDEF7\n",
      "N       N        0.782000\n",
      "        C        0.118859\n",
      "        Y        0.099141\n",
      "Y       N        0.831234\n",
      "        Y        0.119550\n",
      "        C        0.049215\n",
      "Name: RDEF7, dtype: float64\n",
      "CONDIFTIONAL PROBABILITY OF DALIVE if RDEF8 Occured\n",
      "DALIVE  RDEF8\n",
      "N       N        0.844900\n",
      "        C        0.091099\n",
      "        Y        0.064001\n",
      "Y       N        0.897985\n",
      "        Y        0.061616\n",
      "        C        0.040399\n",
      "Name: RDEF8, dtype: float64\n"
     ]
    }
   ],
   "source": [
    "# find the conditional probability of DALIVE Given that RDEF1 == 'Y'\n",
    "print \"CONDIFTIONAL PROBABILITY OF DALIVE if RDEF1 Occured\"\n",
    "print data.groupby('DALIVE')['RDEF1'].value_counts() / data.groupby('DALIVE')['RDEF1'].count()\n",
    "print \"CONDIFTIONAL PROBABILITY OF DALIVE if RDEF2 Occured\"\n",
    "print data.groupby('DALIVE')['RDEF2'].value_counts() / data.groupby('DALIVE')['RDEF2'].count()\n",
    "print \"CONDIFTIONAL PROBABILITY OF DALIVE if RDEF3 Occured\"\n",
    "print data.groupby('DALIVE')['RDEF3'].value_counts() / data.groupby('DALIVE')['RDEF3'].count()\n",
    "print \"CONDIFTIONAL PROBABILITY OF DALIVE if RDEF4 Occured\"\n",
    "print data.groupby('DALIVE')['RDEF4'].value_counts() / data.groupby('DALIVE')['RDEF4'].count()\n",
    "print \"CONDIFTIONAL PROBABILITY OF DALIVE if RDEF5 Occured\"\n",
    "print data.groupby('DALIVE')['RDEF5'].value_counts() / data.groupby('DALIVE')['RDEF5'].count()\n",
    "print \"CONDIFTIONAL PROBABILITY OF DALIVE if RDEF6 Occured\"\n",
    "print data.groupby('DALIVE')['RDEF6'].value_counts() / data.groupby('DALIVE')['RDEF6'].count()\n",
    "print \"CONDIFTIONAL PROBABILITY OF DALIVE if RDEF7 Occured\"\n",
    "print data.groupby('DALIVE')['RDEF7'].value_counts() / data.groupby('DALIVE')['RDEF7'].count()\n",
    "print \"CONDIFTIONAL PROBABILITY OF DALIVE if RDEF8 Occured\"\n",
    "print data.groupby('DALIVE')['RDEF8'].value_counts() / data.groupby('DALIVE')['RDEF8'].count()"
   ]
  },
  {
   "cell_type": "code",
   "execution_count": 50,
   "metadata": {
    "collapsed": true
   },
   "outputs": [],
   "source": [
    "import numpy as np\n",
    "from sklearn import svm\n",
    "from sklearn.cross_validation import train_test_split"
   ]
  },
  {
   "cell_type": "code",
   "execution_count": 51,
   "metadata": {
    "collapsed": true
   },
   "outputs": [],
   "source": [
    "data_d = pd.get_dummies(data)"
   ]
  },
  {
   "cell_type": "code",
   "execution_count": 52,
   "metadata": {
    "collapsed": true
   },
   "outputs": [],
   "source": [
    "## processing INPUTS AND OUTPUTS\n",
    "\n",
    "data_d = pd.get_dummies(data)\n",
    "x = data_d.loc[:, 'AGE':'DNOSTRK_Y'].values # INPUT DATA READY\n",
    "\n",
    "## PREPARING OUTPUT ARRAY\n",
    "output_data = data['DALIVE']\n",
    "output_data = output_data.values\n",
    "y = [1 if i == 'Y' else -1 for i in output_data] # if the input is Y then change to 1 else change to -1\n",
    "\n",
    "x_train, x_test, y_train, y_test = train_test_split(x, y, test_size = 0.3, random_state=2)\n",
    "# 30% data is now test data (x_test, y_test) x is input y is output\n",
    "# x_train and y_train are training data 70%"
   ]
  },
  {
   "cell_type": "code",
   "execution_count": 53,
   "metadata": {},
   "outputs": [
    {
     "name": "stdout",
     "output_type": "stream",
     "text": [
      "starting training\n",
      "training completed in 43.6455988884 seconds\n"
     ]
    }
   ],
   "source": [
    "# training our classifier\n",
    "clf = svm.SVC()\n",
    "print \"starting training\"\n",
    "start_time = timeit.default_timer()\n",
    "model = clf.fit(x_train, y_train)\n",
    "print \"training completed in %s seconds\"  % (timeit.default_timer() - start_time)"
   ]
  },
  {
   "cell_type": "code",
   "execution_count": 54,
   "metadata": {
    "scrolled": true
   },
   "outputs": [
    {
     "name": "stdout",
     "output_type": "stream",
     "text": [
      "starting testing\n",
      "Accuracy: 68.7035811457 precent\n",
      "testing completed in 25.9130609035 seconds\n"
     ]
    }
   ],
   "source": [
    "#testing our classifier\n",
    "print \"starting testing\"\n",
    "start_time = timeit.default_timer()\n",
    "print \"Accuracy: %s precent\" %(model.score(x_train, y_train) * 100)\n",
    "print \"testing completed in %s seconds\"  % (timeit.default_timer() - start_time)"
   ]
  },
  {
   "cell_type": "code",
   "execution_count": 55,
   "metadata": {
    "collapsed": true
   },
   "outputs": [],
   "source": [
    "# saving the model to file\n",
    "pickle.dump(model, open('doa-data/svmAlivePredictor14days.pkl', 'wb'))"
   ]
  },
  {
   "cell_type": "markdown",
   "metadata": {},
   "source": [
    "# Alive after 6 Months - FDEAD\n",
    "\n",
    "Check if the patient is alive after 6 months\n",
    "\n",
    "### Required Data\n",
    "'RCONSC', 'SEX', 'AGE', 'RSLEEP', 'RATRIAL', 'RVISINF', 'RSBP', 'RDEF1', 'RDEF2', 'RDEF3',\n",
    "'RDEF4', 'RDEF5', 'RDEF6', 'RDEF7', 'RDEF8', 'STYPE', 'DDIAGISC', 'DDIAGHA', 'DDIAGUN', 'DNOSTRK', 'FDEAD'\n",
    "\n",
    "## Steps\n",
    "\n",
    "- process input\n",
    "- process output\n",
    "- split test and train data\n",
    "- train model\n",
    "- test model\n",
    "- save model\n"
   ]
  },
  {
   "cell_type": "code",
   "execution_count": 31,
   "metadata": {
    "collapsed": true
   },
   "outputs": [],
   "source": [
    "data = pd.read_csv('data.CSV')\n",
    "# preprocessing the dataset\n",
    "# selecting required fields\n",
    "\n",
    "required_fields = ['RCONSC', 'SEX', 'AGE', 'RSLEEP', 'RATRIAL', 'RVISINF', 'RSBP', 'RDEF1', 'RDEF2', 'RDEF3',\n",
    "                   'RDEF4', 'RDEF5', 'RDEF6', 'RDEF7', 'RDEF8', 'STYPE', 'DDIAGISC', 'DDIAGHA', 'DDIAGUN', 'DNOSTRK'\n",
    "                  , 'FDEAD']\n",
    "data = data[required_fields]\n",
    "data.dropna() # dropping fields with NA values or Empty Values\n",
    "data = data[data['FDEAD'] != 'U']\n",
    "data.to_pickle('doa-data/predictdeath6M.pkl') # saving to file\n",
    "data.to_csv('doa-data/predictdeath6M.csv') # saving to file"
   ]
  },
  {
   "cell_type": "code",
   "execution_count": 32,
   "metadata": {
    "collapsed": true
   },
   "outputs": [],
   "source": [
    "import numpy as np\n",
    "from sklearn import svm\n",
    "from sklearn.cross_validation import train_test_split"
   ]
  },
  {
   "cell_type": "code",
   "execution_count": 33,
   "metadata": {
    "collapsed": true
   },
   "outputs": [],
   "source": [
    "data_d = pd.get_dummies(data)"
   ]
  },
  {
   "cell_type": "code",
   "execution_count": 35,
   "metadata": {
    "collapsed": true
   },
   "outputs": [],
   "source": [
    "## processing INPUTS AND OUTPUTS\n",
    "\n",
    "data_d = pd.get_dummies(data)\n",
    "x = data_d.loc[:, 'AGE':'DNOSTRK_Y'].values # INPUT DATA READY\n",
    "\n",
    "## PREPARING OUTPUT ARRAY\n",
    "output_data = data['FDEAD']\n",
    "output_data = output_data.values\n",
    "y = [1 if i == 'Y' else -1 for i in output_data] # if the input is Y then change to 1 else change to -1\n",
    "\n",
    "x_train, x_test, y_train, y_test = train_test_split(x, y, test_size = 0.3, random_state=2)\n",
    "# 30% data is now test data (x_test, y_test) x is input y is output\n",
    "# x_train and y_train are training data 70%"
   ]
  },
  {
   "cell_type": "code",
   "execution_count": 36,
   "metadata": {},
   "outputs": [
    {
     "name": "stdout",
     "output_type": "stream",
     "text": [
      "starting training\n",
      "training completed in 28.9382400513 seconds\n"
     ]
    }
   ],
   "source": [
    "# training our classifier\n",
    "clf = svm.SVC()\n",
    "print \"starting training\"\n",
    "start_time = timeit.default_timer()\n",
    "model = clf.fit(x_train, y_train)\n",
    "print \"training completed in %s seconds\"  % (timeit.default_timer() - start_time)"
   ]
  },
  {
   "cell_type": "code",
   "execution_count": 37,
   "metadata": {},
   "outputs": [
    {
     "name": "stdout",
     "output_type": "stream",
     "text": [
      "starting testing\n",
      "Accuracy: 81.2960778531 precent\n",
      "testing completed in 18.0928199291 seconds\n"
     ]
    }
   ],
   "source": [
    "#testing our classifier\n",
    "print \"starting testing\"\n",
    "start_time = timeit.default_timer()\n",
    "print \"Accuracy: %s precent\" %(model.score(x_train, y_train) * 100)\n",
    "print \"testing completed in %s seconds\"  % (timeit.default_timer() - start_time)"
   ]
  },
  {
   "cell_type": "code",
   "execution_count": 38,
   "metadata": {
    "collapsed": true
   },
   "outputs": [],
   "source": [
    "# saving the model to file\n",
    "pickle.dump(model, open('doa-data/svmDeadPredictor6M.pkl', 'wb'))"
   ]
  }
 ],
 "metadata": {
  "kernelspec": {
   "display_name": "Python 2",
   "language": "python",
   "name": "python2"
  },
  "language_info": {
   "codemirror_mode": {
    "name": "ipython",
    "version": 2
   },
   "file_extension": ".py",
   "mimetype": "text/x-python",
   "name": "python",
   "nbconvert_exporter": "python",
   "pygments_lexer": "ipython2",
   "version": "2.7.14"
  }
 },
 "nbformat": 4,
 "nbformat_minor": 2
}
