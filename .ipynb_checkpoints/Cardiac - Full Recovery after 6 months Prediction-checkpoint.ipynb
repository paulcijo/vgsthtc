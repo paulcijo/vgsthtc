{
 "cells": [
  {
   "cell_type": "markdown",
   "metadata": {},
   "source": [
    "# Find out if the person has chances to recover fully after 6 months\n",
    "\n",
    "### Required Data\n",
    "'RCONSC', 'SEX', 'AGE', 'RSLEEP', 'RATRIAL', 'RVISINF', 'RSBP', 'RDEF1', 'RDEF2', 'RDEF3',\n",
    "'RDEF4', 'RDEF5', 'RDEF6', 'RDEF7', 'RDEF8', 'STYPE', 'DDIAGISC', 'DDIAGHA', 'DDIAGUN', 'DNOSTRK', 'FRECOVER'\n",
    "\n",
    "## Steps\n",
    "\n",
    "- process input\n",
    "- process output\n",
    "- split test and train data\n",
    "- train model\n",
    "- test model\n",
    "- save model"
   ]
  },
  {
   "cell_type": "code",
   "execution_count": 25,
   "metadata": {},
   "outputs": [],
   "source": [
    "import pandas as pd\n",
    "import numpy as np\n",
    "import timeit\n",
    "from sklearn import svm\n",
    "from sklearn.cross_validation import train_test_split\n",
    "import pickle"
   ]
  },
  {
   "cell_type": "code",
   "execution_count": 20,
   "metadata": {},
   "outputs": [],
   "source": [
    "data = pd.read_csv('data.CSV')\n",
    "# preprocessing the dataset\n",
    "# selecting required fields\n",
    "\n",
    "required_fields = ['RCONSC', 'SEX', 'AGE', 'RSLEEP', 'RATRIAL', 'RVISINF', 'RSBP', 'RDEF1', 'RDEF2', 'RDEF3',\n",
    "                  'RDEF4', 'RDEF5', 'RDEF6', 'RDEF7', 'RDEF8', 'STYPE', 'DDIAGISC', 'DDIAGHA', 'DDIAGUN', 'DNOSTRK'\n",
    "                  , 'FRECOVER']\n",
    "data = data[required_fields]\n",
    "data.dropna() # dropping fields with NA values or Empty Values\n",
    "data = data[data['FRECOVER'] != 'U']\n",
    "data.to_pickle('doa-data/predictFullRecovery.pkl') # saving to file\n",
    "data.to_csv('doa-data/predictFullRecovery.csv') # saving to file"
   ]
  },
  {
   "cell_type": "code",
   "execution_count": 21,
   "metadata": {},
   "outputs": [
    {
     "name": "stdout",
     "output_type": "stream",
     "text": [
      "Index([u'AGE', u'RSBP', u'RCONSC_D', u'RCONSC_F', u'RCONSC_U', u'SEX_F',\n",
      "       u'SEX_M', u'RSLEEP_N', u'RSLEEP_Y', u'RATRIAL_N', u'RATRIAL_Y',\n",
      "       u'RVISINF_N', u'RVISINF_Y', u'RDEF1_C', u'RDEF1_N', u'RDEF1_Y',\n",
      "       u'RDEF2_C', u'RDEF2_N', u'RDEF2_Y', u'RDEF3_C', u'RDEF3_N', u'RDEF3_Y',\n",
      "       u'RDEF4_C', u'RDEF4_N', u'RDEF4_Y', u'RDEF5_C', u'RDEF5_N', u'RDEF5_Y',\n",
      "       u'RDEF6_C', u'RDEF6_N', u'RDEF6_Y', u'RDEF7_C', u'RDEF7_N', u'RDEF7_Y',\n",
      "       u'RDEF8_C', u'RDEF8_N', u'RDEF8_Y', u'STYPE_LACS', u'STYPE_OTH',\n",
      "       u'STYPE_PACS', u'STYPE_POCS', u'STYPE_TACS', u'DDIAGISC_N',\n",
      "       u'DDIAGISC_U', u'DDIAGISC_Y', u'DDIAGISC_u', u'DDIAGHA_N', u'DDIAGHA_U',\n",
      "       u'DDIAGHA_Y', u'DDIAGUN_N', u'DDIAGUN_U', u'DDIAGUN_Y', u'DNOSTRK_N',\n",
      "       u'DNOSTRK_U', u'DNOSTRK_Y', u'FRECOVER_N', u'FRECOVER_Y'],\n",
      "      dtype='object')\n"
     ]
    }
   ],
   "source": [
    "## processing INPUTS AND OUTPUTS\n",
    "\n",
    "data_d = pd.get_dummies(data)\n",
    "print data_d.columns\n",
    "x = data_d.loc[:, 'AGE':'STYPE_TACS'].values # INPUT DATA READY\n",
    "\n",
    "## PREPARING OUTPUT ARRAY\n",
    "output_data = data['FRECOVER']\n",
    "output_data = output_data.values\n",
    "y = [1 if i == 'Y' else -1 for i in output_data] # if the input is Y then change to 1 else change to -1\n",
    "\n",
    "x_train, x_test, y_train, y_test = train_test_split(x, y, test_size = 0.3, random_state=2)\n",
    "# 30% data is now test data (x_test, y_test) x is input y is output\n",
    "# x_train and y_train are training data 70%"
   ]
  },
  {
   "cell_type": "code",
   "execution_count": 22,
   "metadata": {},
   "outputs": [
    {
     "name": "stdout",
     "output_type": "stream",
     "text": [
      "starting training\n",
      "training completed in 30.6368069649 seconds\n"
     ]
    }
   ],
   "source": [
    "# training our classifier\n",
    "clf = svm.SVC()\n",
    "print \"starting training\"\n",
    "start_time = timeit.default_timer()\n",
    "model = clf.fit(x_train, y_train)\n",
    "print \"training completed in %s seconds\"  % (timeit.default_timer() - start_time)"
   ]
  },
  {
   "cell_type": "code",
   "execution_count": 23,
   "metadata": {},
   "outputs": [
    {
     "name": "stdout",
     "output_type": "stream",
     "text": [
      "starting testing\n",
      "Accuracy: 80.7386490302 precent\n",
      "testing completed in 14.8410460949 seconds\n"
     ]
    }
   ],
   "source": [
    "#testing our classifier\n",
    "print \"starting testing\"\n",
    "start_time = timeit.default_timer()\n",
    "print \"Accuracy: %s precent\" %(model.score(x_train, y_train) * 100)\n",
    "print \"testing completed in %s seconds\"  % (timeit.default_timer() - start_time)"
   ]
  },
  {
   "cell_type": "code",
   "execution_count": 26,
   "metadata": {},
   "outputs": [],
   "source": [
    "# saving the model to file\n",
    "pickle.dump(model, open('doa-data/svmFullRecoveryPredictor.pkl', 'wb'))"
   ]
  }
 ],
 "metadata": {
  "kernelspec": {
   "display_name": "Python 2",
   "language": "python",
   "name": "python2"
  },
  "language_info": {
   "codemirror_mode": {
    "name": "ipython",
    "version": 2
   },
   "file_extension": ".py",
   "mimetype": "text/x-python",
   "name": "python",
   "nbconvert_exporter": "python",
   "pygments_lexer": "ipython2",
   "version": "2.7.14"
  }
 },
 "nbformat": 4,
 "nbformat_minor": 2
}
