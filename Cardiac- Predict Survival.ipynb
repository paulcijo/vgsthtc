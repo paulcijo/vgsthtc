{
 "cells": [
  {
   "cell_type": "code",
   "execution_count": 46,
   "metadata": {
    "collapsed": true
   },
   "outputs": [],
   "source": [
    "import pandas as pd\n",
    "import timeit\n",
    "import pickle"
   ]
  },
  {
   "cell_type": "code",
   "execution_count": 48,
   "metadata": {
    "scrolled": true
   },
   "outputs": [
    {
     "data": {
      "text/html": [
       "<div>\n",
       "<style>\n",
       "    .dataframe thead tr:only-child th {\n",
       "        text-align: right;\n",
       "    }\n",
       "\n",
       "    .dataframe thead th {\n",
       "        text-align: left;\n",
       "    }\n",
       "\n",
       "    .dataframe tbody tr th {\n",
       "        vertical-align: top;\n",
       "    }\n",
       "</style>\n",
       "<table border=\"1\" class=\"dataframe\">\n",
       "  <thead>\n",
       "    <tr style=\"text-align: right;\">\n",
       "      <th></th>\n",
       "      <th>HOSPNUM</th>\n",
       "      <th>RDELAY</th>\n",
       "      <th>RCONSC</th>\n",
       "      <th>SEX</th>\n",
       "      <th>AGE</th>\n",
       "      <th>RSLEEP</th>\n",
       "      <th>RATRIAL</th>\n",
       "      <th>RCT</th>\n",
       "      <th>RVISINF</th>\n",
       "      <th>RHEP24</th>\n",
       "      <th>...</th>\n",
       "      <th>DEAD8</th>\n",
       "      <th>H14</th>\n",
       "      <th>ISC14</th>\n",
       "      <th>NK14</th>\n",
       "      <th>STRK14</th>\n",
       "      <th>HTI14</th>\n",
       "      <th>PE14</th>\n",
       "      <th>DVT14</th>\n",
       "      <th>TRAN14</th>\n",
       "      <th>NCB14</th>\n",
       "    </tr>\n",
       "  </thead>\n",
       "  <tbody>\n",
       "    <tr>\n",
       "      <th>0</th>\n",
       "      <td>1</td>\n",
       "      <td>17</td>\n",
       "      <td>D</td>\n",
       "      <td>M</td>\n",
       "      <td>69</td>\n",
       "      <td>Y</td>\n",
       "      <td>NaN</td>\n",
       "      <td>Y</td>\n",
       "      <td>Y</td>\n",
       "      <td>NaN</td>\n",
       "      <td>...</td>\n",
       "      <td>0</td>\n",
       "      <td>0</td>\n",
       "      <td>0</td>\n",
       "      <td>0</td>\n",
       "      <td>0</td>\n",
       "      <td>0</td>\n",
       "      <td>0</td>\n",
       "      <td>0</td>\n",
       "      <td>0</td>\n",
       "      <td>0</td>\n",
       "    </tr>\n",
       "    <tr>\n",
       "      <th>1</th>\n",
       "      <td>1</td>\n",
       "      <td>10</td>\n",
       "      <td>F</td>\n",
       "      <td>M</td>\n",
       "      <td>76</td>\n",
       "      <td>Y</td>\n",
       "      <td>NaN</td>\n",
       "      <td>Y</td>\n",
       "      <td>N</td>\n",
       "      <td>NaN</td>\n",
       "      <td>...</td>\n",
       "      <td>0</td>\n",
       "      <td>0</td>\n",
       "      <td>0</td>\n",
       "      <td>0</td>\n",
       "      <td>0</td>\n",
       "      <td>0</td>\n",
       "      <td>0</td>\n",
       "      <td>0</td>\n",
       "      <td>0</td>\n",
       "      <td>0</td>\n",
       "    </tr>\n",
       "    <tr>\n",
       "      <th>2</th>\n",
       "      <td>1</td>\n",
       "      <td>43</td>\n",
       "      <td>F</td>\n",
       "      <td>F</td>\n",
       "      <td>71</td>\n",
       "      <td>N</td>\n",
       "      <td>NaN</td>\n",
       "      <td>Y</td>\n",
       "      <td>N</td>\n",
       "      <td>NaN</td>\n",
       "      <td>...</td>\n",
       "      <td>0</td>\n",
       "      <td>0</td>\n",
       "      <td>0</td>\n",
       "      <td>0</td>\n",
       "      <td>0</td>\n",
       "      <td>0</td>\n",
       "      <td>0</td>\n",
       "      <td>0</td>\n",
       "      <td>0</td>\n",
       "      <td>0</td>\n",
       "    </tr>\n",
       "    <tr>\n",
       "      <th>3</th>\n",
       "      <td>1</td>\n",
       "      <td>6</td>\n",
       "      <td>F</td>\n",
       "      <td>M</td>\n",
       "      <td>81</td>\n",
       "      <td>N</td>\n",
       "      <td>NaN</td>\n",
       "      <td>N</td>\n",
       "      <td>N</td>\n",
       "      <td>NaN</td>\n",
       "      <td>...</td>\n",
       "      <td>0</td>\n",
       "      <td>0</td>\n",
       "      <td>0</td>\n",
       "      <td>0</td>\n",
       "      <td>0</td>\n",
       "      <td>0</td>\n",
       "      <td>0</td>\n",
       "      <td>0</td>\n",
       "      <td>0</td>\n",
       "      <td>0</td>\n",
       "    </tr>\n",
       "    <tr>\n",
       "      <th>4</th>\n",
       "      <td>4</td>\n",
       "      <td>20</td>\n",
       "      <td>F</td>\n",
       "      <td>M</td>\n",
       "      <td>78</td>\n",
       "      <td>N</td>\n",
       "      <td>NaN</td>\n",
       "      <td>N</td>\n",
       "      <td>N</td>\n",
       "      <td>NaN</td>\n",
       "      <td>...</td>\n",
       "      <td>0</td>\n",
       "      <td>0</td>\n",
       "      <td>0</td>\n",
       "      <td>0</td>\n",
       "      <td>0</td>\n",
       "      <td>0</td>\n",
       "      <td>0</td>\n",
       "      <td>0</td>\n",
       "      <td>0</td>\n",
       "      <td>0</td>\n",
       "    </tr>\n",
       "  </tbody>\n",
       "</table>\n",
       "<p>5 rows × 112 columns</p>\n",
       "</div>"
      ],
      "text/plain": [
       "   HOSPNUM  RDELAY RCONSC SEX  AGE RSLEEP RATRIAL RCT RVISINF RHEP24  ...   \\\n",
       "0        1      17      D   M   69      Y     NaN   Y       Y    NaN  ...    \n",
       "1        1      10      F   M   76      Y     NaN   Y       N    NaN  ...    \n",
       "2        1      43      F   F   71      N     NaN   Y       N    NaN  ...    \n",
       "3        1       6      F   M   81      N     NaN   N       N    NaN  ...    \n",
       "4        4      20      F   M   78      N     NaN   N       N    NaN  ...    \n",
       "\n",
       "  DEAD8  H14 ISC14 NK14 STRK14 HTI14 PE14 DVT14 TRAN14 NCB14  \n",
       "0     0    0     0    0      0     0    0     0      0     0  \n",
       "1     0    0     0    0      0     0    0     0      0     0  \n",
       "2     0    0     0    0      0     0    0     0      0     0  \n",
       "3     0    0     0    0      0     0    0     0      0     0  \n",
       "4     0    0     0    0      0     0    0     0      0     0  \n",
       "\n",
       "[5 rows x 112 columns]"
      ]
     },
     "execution_count": 48,
     "metadata": {},
     "output_type": "execute_result"
    }
   ],
   "source": [
    "# reading dataste\n",
    "data = pd.read_csv('data.CSV')\n",
    "data.head()"
   ]
  },
  {
   "cell_type": "code",
   "execution_count": 49,
   "metadata": {},
   "outputs": [],
   "source": [
    "# preprocessing the dataset\n",
    "# selecting required fields\n",
    "\n",
    "required_fields = ['RCONSC', 'SEX', 'AGE', 'RSLEEP', 'RATRIAL', 'RVISINF', 'RSBP', 'RDEF1', 'RDEF2', 'RDEF3',\n",
    "                   'RDEF4', 'RDEF5', 'RDEF6', 'RDEF7', 'RDEF8', 'STYPE', 'DDIAGISC', 'DDIAGHA', 'DDIAGUN', 'DNOSTRK'\n",
    "                  , 'DALIVE']\n",
    "data = data[required_fields]\n",
    "data.dropna() # dropping fields with NA values or Empty Values\n",
    "data = data[data['DALIVE'] != 'U']\n",
    "data.to_pickle('doa-data/predictsurvival.pkl') # saving to file\n",
    "data.to_csv('doa-data/predictsurvival.csv') # saving to file"
   ]
  },
  {
   "cell_type": "code",
   "execution_count": 50,
   "metadata": {},
   "outputs": [],
   "source": [
    "import numpy as np\n",
    "from sklearn import svm\n",
    "from sklearn.cross_validation import train_test_split"
   ]
  },
  {
   "cell_type": "code",
   "execution_count": 51,
   "metadata": {},
   "outputs": [],
   "source": [
    "data_d = pd.get_dummies(data)"
   ]
  },
  {
   "cell_type": "code",
   "execution_count": 52,
   "metadata": {},
   "outputs": [],
   "source": [
    "## processing INPUTS AND OUTPUTS\n",
    "\n",
    "data_d = pd.get_dummies(data)\n",
    "x = data_d.loc[:, 'AGE':'DNOSTRK_Y'].values # INPUT DATA READY\n",
    "\n",
    "## PREPARING OUTPUT ARRAY\n",
    "output_data = data['DALIVE']\n",
    "output_data = output_data.values\n",
    "y = [1 if i == 'Y' else -1 for i in output_data] # if the input is Y then change to 1 else change to -1\n",
    "\n",
    "x_train, x_test, y_train, y_test = train_test_split(x, y, test_size = 0.3, random_state=2)\n",
    "# 30% data is now test data (x_test, y_test) x is input y is output\n",
    "# x_train and y_train are training data 70%"
   ]
  },
  {
   "cell_type": "code",
   "execution_count": 53,
   "metadata": {},
   "outputs": [
    {
     "name": "stdout",
     "output_type": "stream",
     "text": [
      "starting training\n",
      "training completed in 43.6455988884 seconds\n"
     ]
    }
   ],
   "source": [
    "# training our classifier\n",
    "clf = svm.SVC()\n",
    "print \"starting training\"\n",
    "start_time = timeit.default_timer()\n",
    "model = clf.fit(x_train, y_train)\n",
    "print \"training completed in %s seconds\"  % (timeit.default_timer() - start_time)"
   ]
  },
  {
   "cell_type": "code",
   "execution_count": 54,
   "metadata": {
    "scrolled": true
   },
   "outputs": [
    {
     "name": "stdout",
     "output_type": "stream",
     "text": [
      "starting testing\n",
      "Accuracy: 68.7035811457 precent\n",
      "testing completed in 25.9130609035 seconds\n"
     ]
    }
   ],
   "source": [
    "#testing our classifier\n",
    "print \"starting testing\"\n",
    "start_time = timeit.default_timer()\n",
    "print \"Accuracy: %s precent\" %(model.score(x_train, y_train) * 100)\n",
    "print \"testing completed in %s seconds\"  % (timeit.default_timer() - start_time)"
   ]
  },
  {
   "cell_type": "code",
   "execution_count": 55,
   "metadata": {
    "collapsed": true
   },
   "outputs": [],
   "source": [
    "# saving the model to file\n",
    "pickle.dump(model, open('doa-data/svmAlivePredictor14days.pkl', 'wb'))"
   ]
  },
  {
   "cell_type": "markdown",
   "metadata": {},
   "source": [
    "# Alive after 6 Months - FDEAD\n",
    "\n",
    "Check if the patient is alive after 6 months\n",
    "\n",
    "### Required Data\n",
    "'RCONSC', 'SEX', 'AGE', 'RSLEEP', 'RATRIAL', 'RVISINF', 'RSBP', 'RDEF1', 'RDEF2', 'RDEF3',\n",
    "'RDEF4', 'RDEF5', 'RDEF6', 'RDEF7', 'RDEF8', 'STYPE', 'DDIAGISC', 'DDIAGHA', 'DDIAGUN', 'DNOSTRK', 'FDEAD'\n",
    "\n",
    "## Steps\n",
    "\n",
    "- process input\n",
    "- process output\n",
    "- split test and train data\n",
    "- train model\n",
    "- test model\n",
    "- save model\n"
   ]
  },
  {
   "cell_type": "code",
   "execution_count": 31,
   "metadata": {
    "collapsed": true
   },
   "outputs": [],
   "source": [
    "data = pd.read_csv('data.CSV')\n",
    "# preprocessing the dataset\n",
    "# selecting required fields\n",
    "\n",
    "required_fields = ['RCONSC', 'SEX', 'AGE', 'RSLEEP', 'RATRIAL', 'RVISINF', 'RSBP', 'RDEF1', 'RDEF2', 'RDEF3',\n",
    "                   'RDEF4', 'RDEF5', 'RDEF6', 'RDEF7', 'RDEF8', 'STYPE', 'DDIAGISC', 'DDIAGHA', 'DDIAGUN', 'DNOSTRK'\n",
    "                  , 'FDEAD']\n",
    "data = data[required_fields]\n",
    "data.dropna() # dropping fields with NA values or Empty Values\n",
    "data = data[data['FDEAD'] != 'U']\n",
    "data.to_pickle('doa-data/predictdeath6M.pkl') # saving to file\n",
    "data.to_csv('doa-data/predictdeath6M.csv') # saving to file"
   ]
  },
  {
   "cell_type": "code",
   "execution_count": 32,
   "metadata": {
    "collapsed": true
   },
   "outputs": [],
   "source": [
    "import numpy as np\n",
    "from sklearn import svm\n",
    "from sklearn.cross_validation import train_test_split"
   ]
  },
  {
   "cell_type": "code",
   "execution_count": 33,
   "metadata": {
    "collapsed": true
   },
   "outputs": [],
   "source": [
    "data_d = pd.get_dummies(data)"
   ]
  },
  {
   "cell_type": "code",
   "execution_count": 35,
   "metadata": {
    "collapsed": true
   },
   "outputs": [],
   "source": [
    "## processing INPUTS AND OUTPUTS\n",
    "\n",
    "data_d = pd.get_dummies(data)\n",
    "x = data_d.loc[:, 'AGE':'DNOSTRK_Y'].values # INPUT DATA READY\n",
    "\n",
    "## PREPARING OUTPUT ARRAY\n",
    "output_data = data['FDEAD']\n",
    "output_data = output_data.values\n",
    "y = [1 if i == 'Y' else -1 for i in output_data] # if the input is Y then change to 1 else change to -1\n",
    "\n",
    "x_train, x_test, y_train, y_test = train_test_split(x, y, test_size = 0.3, random_state=2)\n",
    "# 30% data is now test data (x_test, y_test) x is input y is output\n",
    "# x_train and y_train are training data 70%"
   ]
  },
  {
   "cell_type": "code",
   "execution_count": 36,
   "metadata": {},
   "outputs": [
    {
     "name": "stdout",
     "output_type": "stream",
     "text": [
      "starting training\n",
      "training completed in 28.9382400513 seconds\n"
     ]
    }
   ],
   "source": [
    "# training our classifier\n",
    "clf = svm.SVC()\n",
    "print \"starting training\"\n",
    "start_time = timeit.default_timer()\n",
    "model = clf.fit(x_train, y_train)\n",
    "print \"training completed in %s seconds\"  % (timeit.default_timer() - start_time)"
   ]
  },
  {
   "cell_type": "code",
   "execution_count": 37,
   "metadata": {},
   "outputs": [
    {
     "name": "stdout",
     "output_type": "stream",
     "text": [
      "starting testing\n",
      "Accuracy: 81.2960778531 precent\n",
      "testing completed in 18.0928199291 seconds\n"
     ]
    }
   ],
   "source": [
    "#testing our classifier\n",
    "print \"starting testing\"\n",
    "start_time = timeit.default_timer()\n",
    "print \"Accuracy: %s precent\" %(model.score(x_train, y_train) * 100)\n",
    "print \"testing completed in %s seconds\"  % (timeit.default_timer() - start_time)"
   ]
  },
  {
   "cell_type": "code",
   "execution_count": 38,
   "metadata": {
    "collapsed": true
   },
   "outputs": [],
   "source": [
    "# saving the model to file\n",
    "pickle.dump(model, open('doa-data/svmDeadPredictor6M.pkl', 'wb'))"
   ]
  }
 ],
 "metadata": {
  "kernelspec": {
   "display_name": "Python 2",
   "language": "python",
   "name": "python2"
  },
  "language_info": {
   "codemirror_mode": {
    "name": "ipython",
    "version": 2
   },
   "file_extension": ".py",
   "mimetype": "text/x-python",
   "name": "python",
   "nbconvert_exporter": "python",
   "pygments_lexer": "ipython2",
   "version": "2.7.14"
  }
 },
 "nbformat": 4,
 "nbformat_minor": 2
}
